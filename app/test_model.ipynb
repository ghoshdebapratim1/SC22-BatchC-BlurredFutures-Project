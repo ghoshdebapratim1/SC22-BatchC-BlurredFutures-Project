{
 "cells": [
  {
   "cell_type": "code",
   "execution_count": 1,
   "metadata": {
    "collapsed": false
   },
   "outputs": [
    {
     "ename": "ModuleNotFoundError",
     "evalue": "No module named 'flask'",
     "output_type": "error",
     "traceback": [
      "\u001b[0;31m---------------------------------------------------------------------------\u001b[0m",
      "\u001b[0;31mModuleNotFoundError\u001b[0m                       Traceback (most recent call last)",
      "\u001b[0;32m<ipython-input-1-bf40cebb37d2>\u001b[0m in \u001b[0;36m<module>\u001b[0;34m\u001b[0m\n\u001b[1;32m      1\u001b[0m \u001b[0;31m# import requirements needed\u001b[0m\u001b[0;34m\u001b[0m\u001b[0;34m\u001b[0m\u001b[0;34m\u001b[0m\u001b[0m\n\u001b[0;32m----> 2\u001b[0;31m \u001b[0;32mfrom\u001b[0m \u001b[0mflask\u001b[0m \u001b[0;32mimport\u001b[0m \u001b[0mFlask\u001b[0m\u001b[0;34m,\u001b[0m \u001b[0mrender_template\u001b[0m\u001b[0;34m\u001b[0m\u001b[0;34m\u001b[0m\u001b[0m\n\u001b[0m\u001b[1;32m      3\u001b[0m \u001b[0;32mfrom\u001b[0m \u001b[0mutils\u001b[0m \u001b[0;32mimport\u001b[0m \u001b[0mget_base_url\u001b[0m\u001b[0;34m\u001b[0m\u001b[0;34m\u001b[0m\u001b[0m\n\u001b[1;32m      4\u001b[0m \u001b[0;32mimport\u001b[0m \u001b[0msklearn\u001b[0m\u001b[0;34m\u001b[0m\u001b[0;34m\u001b[0m\u001b[0m\n\u001b[1;32m      5\u001b[0m \u001b[0;32mimport\u001b[0m \u001b[0mpickle\u001b[0m\u001b[0;34m\u001b[0m\u001b[0;34m\u001b[0m\u001b[0m\n",
      "\u001b[0;31mModuleNotFoundError\u001b[0m: No module named 'flask'"
     ]
    }
   ],
   "source": [
    "# import requirements needed\n",
    "from flask import Flask, render_template\n",
    "from utils import get_base_url\n",
    "import sklearn\n",
    "import pickle\n",
    "\n",
    "# setup the webserver\n",
    "# port may need to be changed if there are multiple flask servers running on same server\n",
    "port = 12345\n",
    "base_url = get_base_url(port)\n",
    "\n",
    "# if the base url is not empty, then the server is running in development, and we need to specify the static folder so that the static files are served\n",
    "if base_url == '/':\n",
    "    app = Flask(__name__)\n",
    "else:\n",
    "    app = Flask(__name__, static_url_path=base_url+'static')\n",
    "\n",
    "model = pickle.load(open('model.pkl','rb'))\n",
    "\n",
    "# set up the routes and logic for the webserver\n",
    "@app.route(f'{base_url}')\n",
    "def home():\n",
    "    return render_template('index-TEST.html')\n",
    "\n",
    "# define additional routes here\n",
    "# for example:\n",
    "# @app.route(f'{base_url}/team_members')\n",
    "# def team_members():\n",
    "#     return render_template('team_members.html') # would need to actually make this page\n",
    "\n",
    "if __name__ == '__main__':\n",
    "    # IMPORTANT: change url to the site where you are editing this file.\n",
    "    website_url = 'cocalc6.ai-camp.dev'\n",
    "    \n",
    "    print(f'Try to open\\n\\n    https://{website_url}' + base_url + '\\n\\n')\n",
    "    app.run(host = '0.0.0.0', port=port, debug=True)"
   ]
  },
  {
   "cell_type": "code",
   "execution_count": 3,
   "metadata": {
    "collapsed": false
   },
   "outputs": [
    {
     "ename": "ModuleNotFoundError",
     "evalue": "No module named 'flask'",
     "output_type": "error",
     "traceback": [
      "\u001b[0;31m---------------------------------------------------------------------------\u001b[0m",
      "\u001b[0;31mModuleNotFoundError\u001b[0m                       Traceback (most recent call last)",
      "\u001b[0;32m<ipython-input-3-7af258949384>\u001b[0m in \u001b[0;36m<module>\u001b[0;34m\u001b[0m\n\u001b[1;32m      1\u001b[0m \u001b[0;31m# import requirements needed\u001b[0m\u001b[0;34m\u001b[0m\u001b[0;34m\u001b[0m\u001b[0;34m\u001b[0m\u001b[0m\n\u001b[0;32m----> 2\u001b[0;31m \u001b[0;32mimport\u001b[0m \u001b[0mflask\u001b[0m\u001b[0;34m\u001b[0m\u001b[0;34m\u001b[0m\u001b[0m\n\u001b[0m\u001b[1;32m      3\u001b[0m \u001b[0;32mimport\u001b[0m \u001b[0mFlask\u001b[0m\u001b[0;34m\u001b[0m\u001b[0;34m\u001b[0m\u001b[0m\n\u001b[1;32m      4\u001b[0m \u001b[0;32mfrom\u001b[0m \u001b[0mflask\u001b[0m \u001b[0;32mimport\u001b[0m \u001b[0mFlask\u001b[0m\u001b[0;34m,\u001b[0m \u001b[0mrender_template\u001b[0m\u001b[0;34m\u001b[0m\u001b[0;34m\u001b[0m\u001b[0m\n\u001b[1;32m      5\u001b[0m \u001b[0;32mfrom\u001b[0m \u001b[0mutils\u001b[0m \u001b[0;32mimport\u001b[0m \u001b[0mget_base_url\u001b[0m\u001b[0;34m\u001b[0m\u001b[0;34m\u001b[0m\u001b[0m\n",
      "\u001b[0;31mModuleNotFoundError\u001b[0m: No module named 'flask'"
     ]
    }
   ],
   "source": [
    "# import requirements needed\n",
    "import flask\n",
    "import Flask\n",
    "from flask import Flask, render_template\n",
    "from utils import get_base_url\n",
    "import sklearn\n",
    "import pickle\n",
    "\n",
    "# setup the webserver\n",
    "# port may need to be changed if there are multiple flask servers running on same server\n",
    "port = 12345\n",
    "base_url = get_base_url(port)\n",
    "\n",
    "# if the base url is not empty, then the server is running in development, and we need to specify the static folder so that the static files are served\n",
    "if base_url == '/':\n",
    "    app = Flask(__name__)\n",
    "else:\n",
    "    app = Flask(__name__, static_url_path=base_url+'static')\n",
    "\n",
    "model = pickle.load(open('model.pkl','rb'))\n",
    "\n",
    "# set up the routes and logic for the webserver\n",
    "@app.route(f'{base_url}')\n",
    "def home():\n",
    "    return render_template('index-TEST.html')\n",
    "\n",
    "# define additional routes here\n",
    "# for example:\n",
    "# @app.route(f'{base_url}/team_members')\n",
    "# def team_members():\n",
    "#     return render_template('team_members.html') # would need to actually make this page\n",
    "\n",
    "if __name__ == '__main__':\n",
    "    # IMPORTANT: change url to the site where you are editing this file.\n",
    "    website_url = 'https://cocalc6.ai-camp.dev/projects/2276727c-7763-4f74-8e1b-8f64a2a119f0/files/omni/app/main.py?session=default'\n",
    "    \n",
    "    print(f'Try to open\\n\\n    https://{website_url}' + base_url + '\\n\\n')\n",
    "    app.run(host = '0.0.0.0', port=port, debug=True)\n"
   ]
  },
  {
   "cell_type": "code",
   "execution_count": 0,
   "metadata": {
    "collapsed": false
   },
   "outputs": [
   ],
   "source": [
   ]
  }
 ],
 "metadata": {
  "kernelspec": {
   "display_name": "Python 3 (Ubuntu Linux)",
   "language": "python",
   "name": "python3-ubuntu",
   "resource_dir": "/usr/local/share/jupyter/kernels/python3-ubuntu"
  },
  "language_info": {
   "codemirror_mode": {
    "name": "ipython",
    "version": 3
   },
   "file_extension": ".py",
   "mimetype": "text/x-python",
   "name": "python",
   "nbconvert_exporter": "python",
   "pygments_lexer": "ipython3",
   "version": "3.8.10"
  }
 },
 "nbformat": 4,
 "nbformat_minor": 4
}